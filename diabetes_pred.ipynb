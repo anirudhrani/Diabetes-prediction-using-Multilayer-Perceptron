{
 "cells": [
  {
   "cell_type": "markdown",
   "metadata": {},
   "source": [
    "# Import"
   ]
  },
  {
   "cell_type": "code",
   "execution_count": 1,
   "metadata": {},
   "outputs": [],
   "source": [
    "import numpy as np\n",
    "import pandas as pd\n",
    "import matplotlib.pyplot as plt\n",
    "import seaborn as sns\n",
    "import tensorflow as tf\n",
    "import keras"
   ]
  },
  {
   "cell_type": "code",
   "execution_count": 2,
   "metadata": {},
   "outputs": [],
   "source": [
    "df= pd.read_csv('diabetes.csv')"
   ]
  },
  {
   "cell_type": "markdown",
   "metadata": {},
   "source": [
    "# Data Cleaning"
   ]
  },
  {
   "cell_type": "code",
   "execution_count": 3,
   "metadata": {},
   "outputs": [
    {
     "name": "stdout",
     "output_type": "stream",
     "text": [
      "<class 'pandas.core.frame.DataFrame'>\n",
      "RangeIndex: 768 entries, 0 to 767\n",
      "Data columns (total 9 columns):\n",
      " #   Column                    Non-Null Count  Dtype  \n",
      "---  ------                    --------------  -----  \n",
      " 0   Pregnancies               768 non-null    int64  \n",
      " 1   Glucose                   768 non-null    int64  \n",
      " 2   BloodPressure             768 non-null    int64  \n",
      " 3   SkinThickness             768 non-null    int64  \n",
      " 4   Insulin                   768 non-null    int64  \n",
      " 5   BMI                       768 non-null    float64\n",
      " 6   DiabetesPedigreeFunction  768 non-null    float64\n",
      " 7   Age                       768 non-null    int64  \n",
      " 8   Outcome                   768 non-null    int64  \n",
      "dtypes: float64(2), int64(7)\n",
      "memory usage: 54.1 KB\n"
     ]
    }
   ],
   "source": [
    "df.info()"
   ]
  },
  {
   "cell_type": "code",
   "execution_count": 4,
   "metadata": {},
   "outputs": [
    {
     "data": {
      "text/html": [
       "<div>\n",
       "<style scoped>\n",
       "    .dataframe tbody tr th:only-of-type {\n",
       "        vertical-align: middle;\n",
       "    }\n",
       "\n",
       "    .dataframe tbody tr th {\n",
       "        vertical-align: top;\n",
       "    }\n",
       "\n",
       "    .dataframe thead th {\n",
       "        text-align: right;\n",
       "    }\n",
       "</style>\n",
       "<table border=\"1\" class=\"dataframe\">\n",
       "  <thead>\n",
       "    <tr style=\"text-align: right;\">\n",
       "      <th></th>\n",
       "      <th>Pregnancies</th>\n",
       "      <th>Glucose</th>\n",
       "      <th>BloodPressure</th>\n",
       "      <th>SkinThickness</th>\n",
       "      <th>Insulin</th>\n",
       "      <th>BMI</th>\n",
       "      <th>DiabetesPedigreeFunction</th>\n",
       "      <th>Age</th>\n",
       "      <th>Outcome</th>\n",
       "    </tr>\n",
       "  </thead>\n",
       "  <tbody>\n",
       "    <tr>\n",
       "      <th>count</th>\n",
       "      <td>768.000000</td>\n",
       "      <td>768.000000</td>\n",
       "      <td>768.000000</td>\n",
       "      <td>768.000000</td>\n",
       "      <td>768.000000</td>\n",
       "      <td>768.000000</td>\n",
       "      <td>768.000000</td>\n",
       "      <td>768.000000</td>\n",
       "      <td>768.000000</td>\n",
       "    </tr>\n",
       "    <tr>\n",
       "      <th>mean</th>\n",
       "      <td>3.845052</td>\n",
       "      <td>120.894531</td>\n",
       "      <td>69.105469</td>\n",
       "      <td>20.536458</td>\n",
       "      <td>79.799479</td>\n",
       "      <td>31.992578</td>\n",
       "      <td>0.471876</td>\n",
       "      <td>33.240885</td>\n",
       "      <td>0.348958</td>\n",
       "    </tr>\n",
       "    <tr>\n",
       "      <th>std</th>\n",
       "      <td>3.369578</td>\n",
       "      <td>31.972618</td>\n",
       "      <td>19.355807</td>\n",
       "      <td>15.952218</td>\n",
       "      <td>115.244002</td>\n",
       "      <td>7.884160</td>\n",
       "      <td>0.331329</td>\n",
       "      <td>11.760232</td>\n",
       "      <td>0.476951</td>\n",
       "    </tr>\n",
       "    <tr>\n",
       "      <th>min</th>\n",
       "      <td>0.000000</td>\n",
       "      <td>0.000000</td>\n",
       "      <td>0.000000</td>\n",
       "      <td>0.000000</td>\n",
       "      <td>0.000000</td>\n",
       "      <td>0.000000</td>\n",
       "      <td>0.078000</td>\n",
       "      <td>21.000000</td>\n",
       "      <td>0.000000</td>\n",
       "    </tr>\n",
       "    <tr>\n",
       "      <th>25%</th>\n",
       "      <td>1.000000</td>\n",
       "      <td>99.000000</td>\n",
       "      <td>62.000000</td>\n",
       "      <td>0.000000</td>\n",
       "      <td>0.000000</td>\n",
       "      <td>27.300000</td>\n",
       "      <td>0.243750</td>\n",
       "      <td>24.000000</td>\n",
       "      <td>0.000000</td>\n",
       "    </tr>\n",
       "    <tr>\n",
       "      <th>50%</th>\n",
       "      <td>3.000000</td>\n",
       "      <td>117.000000</td>\n",
       "      <td>72.000000</td>\n",
       "      <td>23.000000</td>\n",
       "      <td>30.500000</td>\n",
       "      <td>32.000000</td>\n",
       "      <td>0.372500</td>\n",
       "      <td>29.000000</td>\n",
       "      <td>0.000000</td>\n",
       "    </tr>\n",
       "    <tr>\n",
       "      <th>75%</th>\n",
       "      <td>6.000000</td>\n",
       "      <td>140.250000</td>\n",
       "      <td>80.000000</td>\n",
       "      <td>32.000000</td>\n",
       "      <td>127.250000</td>\n",
       "      <td>36.600000</td>\n",
       "      <td>0.626250</td>\n",
       "      <td>41.000000</td>\n",
       "      <td>1.000000</td>\n",
       "    </tr>\n",
       "    <tr>\n",
       "      <th>max</th>\n",
       "      <td>17.000000</td>\n",
       "      <td>199.000000</td>\n",
       "      <td>122.000000</td>\n",
       "      <td>99.000000</td>\n",
       "      <td>846.000000</td>\n",
       "      <td>67.100000</td>\n",
       "      <td>2.420000</td>\n",
       "      <td>81.000000</td>\n",
       "      <td>1.000000</td>\n",
       "    </tr>\n",
       "  </tbody>\n",
       "</table>\n",
       "</div>"
      ],
      "text/plain": [
       "       Pregnancies     Glucose  BloodPressure  SkinThickness     Insulin  \\\n",
       "count   768.000000  768.000000     768.000000     768.000000  768.000000   \n",
       "mean      3.845052  120.894531      69.105469      20.536458   79.799479   \n",
       "std       3.369578   31.972618      19.355807      15.952218  115.244002   \n",
       "min       0.000000    0.000000       0.000000       0.000000    0.000000   \n",
       "25%       1.000000   99.000000      62.000000       0.000000    0.000000   \n",
       "50%       3.000000  117.000000      72.000000      23.000000   30.500000   \n",
       "75%       6.000000  140.250000      80.000000      32.000000  127.250000   \n",
       "max      17.000000  199.000000     122.000000      99.000000  846.000000   \n",
       "\n",
       "              BMI  DiabetesPedigreeFunction         Age     Outcome  \n",
       "count  768.000000                768.000000  768.000000  768.000000  \n",
       "mean    31.992578                  0.471876   33.240885    0.348958  \n",
       "std      7.884160                  0.331329   11.760232    0.476951  \n",
       "min      0.000000                  0.078000   21.000000    0.000000  \n",
       "25%     27.300000                  0.243750   24.000000    0.000000  \n",
       "50%     32.000000                  0.372500   29.000000    0.000000  \n",
       "75%     36.600000                  0.626250   41.000000    1.000000  \n",
       "max     67.100000                  2.420000   81.000000    1.000000  "
      ]
     },
     "execution_count": 4,
     "metadata": {},
     "output_type": "execute_result"
    }
   ],
   "source": [
    "df.describe()"
   ]
  },
  {
   "cell_type": "markdown",
   "metadata": {},
   "source": [
    "From the above stas, an anomaly can be found where in there could be no person  alive with Glucose, Blood Pressure, skin thickness and insulin with reading as 0. \n",
    "\n",
    "These being continuous variables, I will be replacing them with their mean value"
   ]
  },
  {
   "cell_type": "code",
   "execution_count": 5,
   "metadata": {},
   "outputs": [
    {
     "data": {
      "text/plain": [
       "Pregnancies                 False\n",
       "Glucose                     False\n",
       "BloodPressure               False\n",
       "SkinThickness               False\n",
       "Insulin                     False\n",
       "BMI                         False\n",
       "DiabetesPedigreeFunction    False\n",
       "Age                         False\n",
       "Outcome                     False\n",
       "dtype: bool"
      ]
     },
     "execution_count": 5,
     "metadata": {},
     "output_type": "execute_result"
    }
   ],
   "source": [
    "# Checking for any actual null values other than the found dsicrepancy\n",
    "df.isnull().any()"
   ]
  },
  {
   "cell_type": "code",
   "execution_count": 6,
   "metadata": {},
   "outputs": [],
   "source": [
    "# initially replacing the values with nan\n",
    "df['Glucose'] = df['Glucose'].replace(0,np.nan)\n",
    "df['BloodPressure'] = df['BloodPressure'].replace(0,np.nan)\n",
    "df['Insulin'] = df['Insulin'].replace(0,np.nan)\n",
    "df['SkinThickness'] = df['SkinThickness'].replace(0,np.nan)"
   ]
  },
  {
   "cell_type": "code",
   "execution_count": 7,
   "metadata": {},
   "outputs": [
    {
     "data": {
      "text/html": [
       "<div>\n",
       "<style scoped>\n",
       "    .dataframe tbody tr th:only-of-type {\n",
       "        vertical-align: middle;\n",
       "    }\n",
       "\n",
       "    .dataframe tbody tr th {\n",
       "        vertical-align: top;\n",
       "    }\n",
       "\n",
       "    .dataframe thead th {\n",
       "        text-align: right;\n",
       "    }\n",
       "</style>\n",
       "<table border=\"1\" class=\"dataframe\">\n",
       "  <thead>\n",
       "    <tr style=\"text-align: right;\">\n",
       "      <th></th>\n",
       "      <th>Pregnancies</th>\n",
       "      <th>Glucose</th>\n",
       "      <th>BloodPressure</th>\n",
       "      <th>SkinThickness</th>\n",
       "      <th>Insulin</th>\n",
       "      <th>BMI</th>\n",
       "      <th>DiabetesPedigreeFunction</th>\n",
       "      <th>Age</th>\n",
       "      <th>Outcome</th>\n",
       "    </tr>\n",
       "  </thead>\n",
       "  <tbody>\n",
       "    <tr>\n",
       "      <th>0</th>\n",
       "      <td>6</td>\n",
       "      <td>148.0</td>\n",
       "      <td>72.0</td>\n",
       "      <td>35.0</td>\n",
       "      <td>NaN</td>\n",
       "      <td>33.6</td>\n",
       "      <td>0.627</td>\n",
       "      <td>50</td>\n",
       "      <td>1</td>\n",
       "    </tr>\n",
       "    <tr>\n",
       "      <th>1</th>\n",
       "      <td>1</td>\n",
       "      <td>85.0</td>\n",
       "      <td>66.0</td>\n",
       "      <td>29.0</td>\n",
       "      <td>NaN</td>\n",
       "      <td>26.6</td>\n",
       "      <td>0.351</td>\n",
       "      <td>31</td>\n",
       "      <td>0</td>\n",
       "    </tr>\n",
       "    <tr>\n",
       "      <th>2</th>\n",
       "      <td>8</td>\n",
       "      <td>183.0</td>\n",
       "      <td>64.0</td>\n",
       "      <td>NaN</td>\n",
       "      <td>NaN</td>\n",
       "      <td>23.3</td>\n",
       "      <td>0.672</td>\n",
       "      <td>32</td>\n",
       "      <td>1</td>\n",
       "    </tr>\n",
       "    <tr>\n",
       "      <th>3</th>\n",
       "      <td>1</td>\n",
       "      <td>89.0</td>\n",
       "      <td>66.0</td>\n",
       "      <td>23.0</td>\n",
       "      <td>94.0</td>\n",
       "      <td>28.1</td>\n",
       "      <td>0.167</td>\n",
       "      <td>21</td>\n",
       "      <td>0</td>\n",
       "    </tr>\n",
       "    <tr>\n",
       "      <th>4</th>\n",
       "      <td>0</td>\n",
       "      <td>137.0</td>\n",
       "      <td>40.0</td>\n",
       "      <td>35.0</td>\n",
       "      <td>168.0</td>\n",
       "      <td>43.1</td>\n",
       "      <td>2.288</td>\n",
       "      <td>33</td>\n",
       "      <td>1</td>\n",
       "    </tr>\n",
       "  </tbody>\n",
       "</table>\n",
       "</div>"
      ],
      "text/plain": [
       "   Pregnancies  Glucose  BloodPressure  SkinThickness  Insulin   BMI  \\\n",
       "0            6    148.0           72.0           35.0      NaN  33.6   \n",
       "1            1     85.0           66.0           29.0      NaN  26.6   \n",
       "2            8    183.0           64.0            NaN      NaN  23.3   \n",
       "3            1     89.0           66.0           23.0     94.0  28.1   \n",
       "4            0    137.0           40.0           35.0    168.0  43.1   \n",
       "\n",
       "   DiabetesPedigreeFunction  Age  Outcome  \n",
       "0                     0.627   50        1  \n",
       "1                     0.351   31        0  \n",
       "2                     0.672   32        1  \n",
       "3                     0.167   21        0  \n",
       "4                     2.288   33        1  "
      ]
     },
     "execution_count": 7,
     "metadata": {},
     "output_type": "execute_result"
    }
   ],
   "source": [
    "df.head()"
   ]
  },
  {
   "cell_type": "code",
   "execution_count": 8,
   "metadata": {},
   "outputs": [],
   "source": [
    "# replacing the nan values with their respective mean values\n",
    "df['Insulin']= df['Insulin'].fillna(df['Insulin'].mean())\n",
    "df['BloodPressure']= df['BloodPressure'].fillna(df['BloodPressure'].mean())\n",
    "df['SkinThickness']= df['SkinThickness'].fillna(df['SkinThickness'].mean())\n",
    "df['Glucose']= df['Glucose'].fillna(df['Glucose'].mean())"
   ]
  },
  {
   "cell_type": "code",
   "execution_count": 9,
   "metadata": {},
   "outputs": [
    {
     "data": {
      "text/html": [
       "<div>\n",
       "<style scoped>\n",
       "    .dataframe tbody tr th:only-of-type {\n",
       "        vertical-align: middle;\n",
       "    }\n",
       "\n",
       "    .dataframe tbody tr th {\n",
       "        vertical-align: top;\n",
       "    }\n",
       "\n",
       "    .dataframe thead th {\n",
       "        text-align: right;\n",
       "    }\n",
       "</style>\n",
       "<table border=\"1\" class=\"dataframe\">\n",
       "  <thead>\n",
       "    <tr style=\"text-align: right;\">\n",
       "      <th></th>\n",
       "      <th>Pregnancies</th>\n",
       "      <th>Glucose</th>\n",
       "      <th>BloodPressure</th>\n",
       "      <th>SkinThickness</th>\n",
       "      <th>Insulin</th>\n",
       "      <th>BMI</th>\n",
       "      <th>DiabetesPedigreeFunction</th>\n",
       "      <th>Age</th>\n",
       "      <th>Outcome</th>\n",
       "    </tr>\n",
       "  </thead>\n",
       "  <tbody>\n",
       "    <tr>\n",
       "      <th>0</th>\n",
       "      <td>6</td>\n",
       "      <td>148.0</td>\n",
       "      <td>72.0</td>\n",
       "      <td>35.00000</td>\n",
       "      <td>155.548223</td>\n",
       "      <td>33.6</td>\n",
       "      <td>0.627</td>\n",
       "      <td>50</td>\n",
       "      <td>1</td>\n",
       "    </tr>\n",
       "    <tr>\n",
       "      <th>1</th>\n",
       "      <td>1</td>\n",
       "      <td>85.0</td>\n",
       "      <td>66.0</td>\n",
       "      <td>29.00000</td>\n",
       "      <td>155.548223</td>\n",
       "      <td>26.6</td>\n",
       "      <td>0.351</td>\n",
       "      <td>31</td>\n",
       "      <td>0</td>\n",
       "    </tr>\n",
       "    <tr>\n",
       "      <th>2</th>\n",
       "      <td>8</td>\n",
       "      <td>183.0</td>\n",
       "      <td>64.0</td>\n",
       "      <td>29.15342</td>\n",
       "      <td>155.548223</td>\n",
       "      <td>23.3</td>\n",
       "      <td>0.672</td>\n",
       "      <td>32</td>\n",
       "      <td>1</td>\n",
       "    </tr>\n",
       "    <tr>\n",
       "      <th>3</th>\n",
       "      <td>1</td>\n",
       "      <td>89.0</td>\n",
       "      <td>66.0</td>\n",
       "      <td>23.00000</td>\n",
       "      <td>94.000000</td>\n",
       "      <td>28.1</td>\n",
       "      <td>0.167</td>\n",
       "      <td>21</td>\n",
       "      <td>0</td>\n",
       "    </tr>\n",
       "    <tr>\n",
       "      <th>4</th>\n",
       "      <td>0</td>\n",
       "      <td>137.0</td>\n",
       "      <td>40.0</td>\n",
       "      <td>35.00000</td>\n",
       "      <td>168.000000</td>\n",
       "      <td>43.1</td>\n",
       "      <td>2.288</td>\n",
       "      <td>33</td>\n",
       "      <td>1</td>\n",
       "    </tr>\n",
       "  </tbody>\n",
       "</table>\n",
       "</div>"
      ],
      "text/plain": [
       "   Pregnancies  Glucose  BloodPressure  SkinThickness     Insulin   BMI  \\\n",
       "0            6    148.0           72.0       35.00000  155.548223  33.6   \n",
       "1            1     85.0           66.0       29.00000  155.548223  26.6   \n",
       "2            8    183.0           64.0       29.15342  155.548223  23.3   \n",
       "3            1     89.0           66.0       23.00000   94.000000  28.1   \n",
       "4            0    137.0           40.0       35.00000  168.000000  43.1   \n",
       "\n",
       "   DiabetesPedigreeFunction  Age  Outcome  \n",
       "0                     0.627   50        1  \n",
       "1                     0.351   31        0  \n",
       "2                     0.672   32        1  \n",
       "3                     0.167   21        0  \n",
       "4                     2.288   33        1  "
      ]
     },
     "execution_count": 9,
     "metadata": {},
     "output_type": "execute_result"
    }
   ],
   "source": [
    "df.head()"
   ]
  },
  {
   "cell_type": "markdown",
   "metadata": {},
   "source": [
    "# Univariate Analysis"
   ]
  },
  {
   "cell_type": "code",
   "execution_count": 10,
   "metadata": {},
   "outputs": [
    {
     "data": {
      "text/plain": [
       "<matplotlib.axes._subplots.AxesSubplot at 0x28e3f18f408>"
      ]
     },
     "execution_count": 10,
     "metadata": {},
     "output_type": "execute_result"
    },
    {
     "data": {
      "image/png": "[encoded data removed]",
      "text/plain": [
       "<Figure size 432x288 with 1 Axes>"
      ]
     },
     "metadata": {
      "needs_background": "light"
     },
     "output_type": "display_data"
    }
   ],
   "source": [
    "sns.distplot(df['Pregnancies'])"
   ]
  },
  {
   "cell_type": "code",
   "execution_count": 11,
   "metadata": {},
   "outputs": [
    {
     "data": {
      "text/plain": [
       "<matplotlib.axes._subplots.AxesSubplot at 0x28e3f8f8b88>"
      ]
     },
     "execution_count": 11,
     "metadata": {},
     "output_type": "execute_result"
    },
    {
     "data": {
      "image/png": "[encoded data removed]",
      "text/plain": [
       "<Figure size 432x288 with 1 Axes>"
      ]
     },
     "metadata": {
      "needs_background": "light"
     },
     "output_type": "display_data"
    }
   ],
   "source": [
    "sns.distplot(df['Glucose'])"
   ]
  },
  {
   "cell_type": "code",
   "execution_count": 12,
   "metadata": {},
   "outputs": [
    {
     "data": {
      "text/plain": [
       "<matplotlib.axes._subplots.AxesSubplot at 0x28e3f9bd848>"
      ]
     },
     "execution_count": 12,
     "metadata": {},
     "output_type": "execute_result"
    },
    {
     "data": {
      "image/png": "[encoded data removed]",
      "text/plain": [
       "<Figure size 432x288 with 1 Axes>"
      ]
     },
     "metadata": {
      "needs_background": "light"
     },
     "output_type": "display_data"
    }
   ],
   "source": [
    "sns.boxplot(df['BloodPressure'])"
   ]
  },
  {
   "cell_type": "code",
   "execution_count": 13,
   "metadata": {},
   "outputs": [
    {
     "data": {
      "text/plain": [
       "<matplotlib.axes._subplots.AxesSubplot at 0x28e3fa21c08>"
      ]
     },
     "execution_count": 13,
     "metadata": {},
     "output_type": "execute_result"
    },
    {
     "data": {
      "image/png": "[encoded data removed]",
      "text/plain": [
       "<Figure size 432x288 with 1 Axes>"
      ]
     },
     "metadata": {
      "needs_background": "light"
     },
     "output_type": "display_data"
    }
   ],
   "source": [
    "sns.boxplot(df['SkinThickness'])"
   ]
  },
  {
   "cell_type": "code",
   "execution_count": 14,
   "metadata": {},
   "outputs": [
    {
     "data": {
      "text/plain": [
       "<matplotlib.axes._subplots.AxesSubplot at 0x28e3fa88f88>"
      ]
     },
     "execution_count": 14,
     "metadata": {},
     "output_type": "execute_result"
    },
    {
     "data": {
      "image/png": "[encoded data removed]",
      "text/plain": [
       "<Figure size 432x288 with 1 Axes>"
      ]
     },
     "metadata": {
      "needs_background": "light"
     },
     "output_type": "display_data"
    }
   ],
   "source": [
    "sns.distplot(df['Insulin'])"
   ]
  },
  {
   "cell_type": "code",
   "execution_count": 15,
   "metadata": {},
   "outputs": [
    {
     "data": {
      "text/plain": [
       "<matplotlib.axes._subplots.AxesSubplot at 0x28e3fb7e948>"
      ]
     },
     "execution_count": 15,
     "metadata": {},
     "output_type": "execute_result"
    },
    {
     "data": {
      "image/png": "[encoded data removed]",
      "text/plain": [
       "<Figure size 432x288 with 1 Axes>"
      ]
     },
     "metadata": {
      "needs_background": "light"
     },
     "output_type": "display_data"
    }
   ],
   "source": [
    "sns.boxplot(df['BMI'])"
   ]
  },
  {
   "cell_type": "code",
   "execution_count": 16,
   "metadata": {},
   "outputs": [
    {
     "data": {
      "text/plain": [
       "<matplotlib.axes._subplots.AxesSubplot at 0x28e40bb5608>"
      ]
     },
     "execution_count": 16,
     "metadata": {},
     "output_type": "execute_result"
    },
    {
     "data": {
      "image/png": "[encoded data removed]",
      "text/plain": [
       "<Figure size 432x288 with 1 Axes>"
      ]
     },
     "metadata": {
      "needs_background": "light"
     },
     "output_type": "display_data"
    }
   ],
   "source": [
    "sns.boxplot(df['DiabetesPedigreeFunction'])"
   ]
  },
  {
   "cell_type": "code",
   "execution_count": 17,
   "metadata": {},
   "outputs": [
    {
     "data": {
      "text/plain": [
       "count    768.000000\n",
       "mean      33.240885\n",
       "std       11.760232\n",
       "min       21.000000\n",
       "25%       24.000000\n",
       "50%       29.000000\n",
       "75%       41.000000\n",
       "max       81.000000\n",
       "Name: Age, dtype: float64"
      ]
     },
     "execution_count": 17,
     "metadata": {},
     "output_type": "execute_result"
    }
   ],
   "source": [
    "df['Age'].describe()"
   ]
  },
  {
   "cell_type": "markdown",
   "metadata": {},
   "source": [
    "# Bi-Variate Analysis"
   ]
  },
  {
   "cell_type": "code",
   "execution_count": 18,
   "metadata": {},
   "outputs": [
    {
     "data": {
      "text/plain": [
       "<seaborn.axisgrid.FacetGrid at 0x28e3f980fc8>"
      ]
     },
     "execution_count": 18,
     "metadata": {},
     "output_type": "execute_result"
    },
    {
     "data": {
      "image/png": "[encoded data removed]",
      "text/plain": [
       "<Figure size 413.25x360 with 1 Axes>"
      ]
     },
     "metadata": {
      "needs_background": "light"
     },
     "output_type": "display_data"
    }
   ],
   "source": [
    "sns.lmplot(x='Glucose', y='BloodPressure', data=df, hue='Outcome')"
   ]
  },
  {
   "cell_type": "code",
   "execution_count": 19,
   "metadata": {},
   "outputs": [
    {
     "data": {
      "text/plain": [
       "<seaborn.axisgrid.FacetGrid at 0x28e40ce1cc8>"
      ]
     },
     "execution_count": 19,
     "metadata": {},
     "output_type": "execute_result"
    },
    {
     "data": {
      "image/png": "[encoded data removed]",
      "text/plain": [
       "<Figure size 413.25x360 with 1 Axes>"
      ]
     },
     "metadata": {
      "needs_background": "light"
     },
     "output_type": "display_data"
    }
   ],
   "source": [
    "sns.lmplot(x='Glucose', y='Insulin', data=df, hue='Outcome')"
   ]
  },
  {
   "cell_type": "code",
   "execution_count": 20,
   "metadata": {},
   "outputs": [
    {
     "data": {
      "text/plain": [
       "<seaborn.axisgrid.FacetGrid at 0x28e40d65e88>"
      ]
     },
     "execution_count": 20,
     "metadata": {},
     "output_type": "execute_result"
    },
    {
     "data": {
      "image/png": "[encoded data removed]",
      "text/plain": [
       "<Figure size 413.25x360 with 1 Axes>"
      ]
     },
     "metadata": {
      "needs_background": "light"
     },
     "output_type": "display_data"
    }
   ],
   "source": [
    "sns.lmplot(x='Age', y='BMI', data=df, hue='Outcome')"
   ]
  },
  {
   "cell_type": "code",
   "execution_count": 21,
   "metadata": {},
   "outputs": [
    {
     "data": {
      "text/plain": [
       "<matplotlib.axes._subplots.AxesSubplot at 0x28e40daec88>"
      ]
     },
     "execution_count": 21,
     "metadata": {},
     "output_type": "execute_result"
    },
    {
     "data": {
      "image/png": "[encoded data removed]",
      "text/plain": [
       "<Figure size 1440x720 with 2 Axes>"
      ]
     },
     "metadata": {
      "needs_background": "light"
     },
     "output_type": "display_data"
    }
   ],
   "source": [
    "plt.figure(figsize=(20,10))\n",
    "sns.heatmap(df.corr(), annot=True)"
   ]
  },
  {
   "cell_type": "code",
   "execution_count": 22,
   "metadata": {},
   "outputs": [
    {
     "data": {
      "text/plain": [
       "Pregnancies                 False\n",
       "Glucose                     False\n",
       "BloodPressure               False\n",
       "SkinThickness               False\n",
       "Insulin                     False\n",
       "BMI                         False\n",
       "DiabetesPedigreeFunction    False\n",
       "Age                         False\n",
       "Outcome                     False\n",
       "dtype: bool"
      ]
     },
     "execution_count": 22,
     "metadata": {},
     "output_type": "execute_result"
    }
   ],
   "source": [
    "df.isnull().any()"
   ]
  },
  {
   "cell_type": "markdown",
   "metadata": {},
   "source": [
    "# Data Standardization"
   ]
  },
  {
   "cell_type": "code",
   "execution_count": 23,
   "metadata": {},
   "outputs": [],
   "source": [
    "from sklearn import preprocessing"
   ]
  },
  {
   "cell_type": "code",
   "execution_count": 24,
   "metadata": {},
   "outputs": [
    {
     "data": {
      "text/plain": [
       "numpy.ndarray"
      ]
     },
     "execution_count": 24,
     "metadata": {},
     "output_type": "execute_result"
    }
   ],
   "source": [
    "df_std= preprocessing.scale(df)\n",
    "type(df_std)"
   ]
  },
  {
   "cell_type": "code",
   "execution_count": 25,
   "metadata": {},
   "outputs": [],
   "source": [
    "# converting it back to a data frame\n",
    "df_std= pd.DataFrame(df_std)"
   ]
  },
  {
   "cell_type": "code",
   "execution_count": 26,
   "metadata": {},
   "outputs": [
    {
     "data": {
      "text/html": [
       "<div>\n",
       "<style scoped>\n",
       "    .dataframe tbody tr th:only-of-type {\n",
       "        vertical-align: middle;\n",
       "    }\n",
       "\n",
       "    .dataframe tbody tr th {\n",
       "        vertical-align: top;\n",
       "    }\n",
       "\n",
       "    .dataframe thead th {\n",
       "        text-align: right;\n",
       "    }\n",
       "</style>\n",
       "<table border=\"1\" class=\"dataframe\">\n",
       "  <thead>\n",
       "    <tr style=\"text-align: right;\">\n",
       "      <th></th>\n",
       "      <th>0</th>\n",
       "      <th>1</th>\n",
       "      <th>2</th>\n",
       "      <th>3</th>\n",
       "      <th>4</th>\n",
       "      <th>5</th>\n",
       "      <th>6</th>\n",
       "      <th>7</th>\n",
       "      <th>8</th>\n",
       "    </tr>\n",
       "  </thead>\n",
       "  <tbody>\n",
       "    <tr>\n",
       "      <th>0</th>\n",
       "      <td>0.639947</td>\n",
       "      <td>0.865108</td>\n",
       "      <td>-0.033518</td>\n",
       "      <td>6.655021e-01</td>\n",
       "      <td>-3.345079e-16</td>\n",
       "      <td>0.204013</td>\n",
       "      <td>0.468492</td>\n",
       "      <td>1.425995</td>\n",
       "      <td>1.365896</td>\n",
       "    </tr>\n",
       "    <tr>\n",
       "      <th>1</th>\n",
       "      <td>-0.844885</td>\n",
       "      <td>-1.206162</td>\n",
       "      <td>-0.529859</td>\n",
       "      <td>-1.746338e-02</td>\n",
       "      <td>-3.345079e-16</td>\n",
       "      <td>-0.684422</td>\n",
       "      <td>-0.365061</td>\n",
       "      <td>-0.190672</td>\n",
       "      <td>-0.732120</td>\n",
       "    </tr>\n",
       "    <tr>\n",
       "      <th>2</th>\n",
       "      <td>1.233880</td>\n",
       "      <td>2.015813</td>\n",
       "      <td>-0.695306</td>\n",
       "      <td>8.087936e-16</td>\n",
       "      <td>-3.345079e-16</td>\n",
       "      <td>-1.103255</td>\n",
       "      <td>0.604397</td>\n",
       "      <td>-0.105584</td>\n",
       "      <td>1.365896</td>\n",
       "    </tr>\n",
       "    <tr>\n",
       "      <th>3</th>\n",
       "      <td>-0.844885</td>\n",
       "      <td>-1.074652</td>\n",
       "      <td>-0.529859</td>\n",
       "      <td>-7.004289e-01</td>\n",
       "      <td>-7.243887e-01</td>\n",
       "      <td>-0.494043</td>\n",
       "      <td>-0.920763</td>\n",
       "      <td>-1.041549</td>\n",
       "      <td>-0.732120</td>\n",
       "    </tr>\n",
       "    <tr>\n",
       "      <th>4</th>\n",
       "      <td>-1.141852</td>\n",
       "      <td>0.503458</td>\n",
       "      <td>-2.680669</td>\n",
       "      <td>6.655021e-01</td>\n",
       "      <td>1.465506e-01</td>\n",
       "      <td>1.409746</td>\n",
       "      <td>5.484909</td>\n",
       "      <td>-0.020496</td>\n",
       "      <td>1.365896</td>\n",
       "    </tr>\n",
       "  </tbody>\n",
       "</table>\n",
       "</div>"
      ],
      "text/plain": [
       "          0         1         2             3             4         5  \\\n",
       "0  0.639947  0.865108 -0.033518  6.655021e-01 -3.345079e-16  0.204013   \n",
       "1 -0.844885 -1.206162 -0.529859 -1.746338e-02 -3.345079e-16 -0.684422   \n",
       "2  1.233880  2.015813 -0.695306  8.087936e-16 -3.345079e-16 -1.103255   \n",
       "3 -0.844885 -1.074652 -0.529859 -7.004289e-01 -7.243887e-01 -0.494043   \n",
       "4 -1.141852  0.503458 -2.680669  6.655021e-01  1.465506e-01  1.409746   \n",
       "\n",
       "          6         7         8  \n",
       "0  0.468492  1.425995  1.365896  \n",
       "1 -0.365061 -0.190672 -0.732120  \n",
       "2  0.604397 -0.105584  1.365896  \n",
       "3 -0.920763 -1.041549 -0.732120  \n",
       "4  5.484909 -0.020496  1.365896  "
      ]
     },
     "execution_count": 26,
     "metadata": {},
     "output_type": "execute_result"
    }
   ],
   "source": [
    "df_std.head()"
   ]
  },
  {
   "cell_type": "code",
   "execution_count": 27,
   "metadata": {},
   "outputs": [
    {
     "data": {
      "text/html": [
       "<div>\n",
       "<style scoped>\n",
       "    .dataframe tbody tr th:only-of-type {\n",
       "        vertical-align: middle;\n",
       "    }\n",
       "\n",
       "    .dataframe tbody tr th {\n",
       "        vertical-align: top;\n",
       "    }\n",
       "\n",
       "    .dataframe thead th {\n",
       "        text-align: right;\n",
       "    }\n",
       "</style>\n",
       "<table border=\"1\" class=\"dataframe\">\n",
       "  <thead>\n",
       "    <tr style=\"text-align: right;\">\n",
       "      <th></th>\n",
       "      <th>0</th>\n",
       "      <th>1</th>\n",
       "      <th>2</th>\n",
       "      <th>3</th>\n",
       "      <th>4</th>\n",
       "      <th>5</th>\n",
       "      <th>6</th>\n",
       "      <th>7</th>\n",
       "      <th>8</th>\n",
       "    </tr>\n",
       "  </thead>\n",
       "  <tbody>\n",
       "    <tr>\n",
       "      <th>count</th>\n",
       "      <td>7.680000e+02</td>\n",
       "      <td>7.680000e+02</td>\n",
       "      <td>7.680000e+02</td>\n",
       "      <td>7.680000e+02</td>\n",
       "      <td>7.680000e+02</td>\n",
       "      <td>7.680000e+02</td>\n",
       "      <td>7.680000e+02</td>\n",
       "      <td>7.680000e+02</td>\n",
       "      <td>7.680000e+02</td>\n",
       "    </tr>\n",
       "    <tr>\n",
       "      <th>mean</th>\n",
       "      <td>2.544261e-17</td>\n",
       "      <td>-3.301757e-16</td>\n",
       "      <td>6.966722e-16</td>\n",
       "      <td>6.866252e-16</td>\n",
       "      <td>-2.352033e-16</td>\n",
       "      <td>2.295979e-16</td>\n",
       "      <td>2.398978e-16</td>\n",
       "      <td>1.857600e-16</td>\n",
       "      <td>2.408374e-16</td>\n",
       "    </tr>\n",
       "    <tr>\n",
       "      <th>std</th>\n",
       "      <td>1.000652e+00</td>\n",
       "      <td>1.000652e+00</td>\n",
       "      <td>1.000652e+00</td>\n",
       "      <td>1.000652e+00</td>\n",
       "      <td>1.000652e+00</td>\n",
       "      <td>1.000652e+00</td>\n",
       "      <td>1.000652e+00</td>\n",
       "      <td>1.000652e+00</td>\n",
       "      <td>1.000652e+00</td>\n",
       "    </tr>\n",
       "    <tr>\n",
       "      <th>min</th>\n",
       "      <td>-1.141852e+00</td>\n",
       "      <td>-2.554131e+00</td>\n",
       "      <td>-4.004245e+00</td>\n",
       "      <td>-2.521670e+00</td>\n",
       "      <td>-1.665945e+00</td>\n",
       "      <td>-4.060474e+00</td>\n",
       "      <td>-1.189553e+00</td>\n",
       "      <td>-1.041549e+00</td>\n",
       "      <td>-7.321202e-01</td>\n",
       "    </tr>\n",
       "    <tr>\n",
       "      <th>25%</th>\n",
       "      <td>-8.448851e-01</td>\n",
       "      <td>-7.212214e-01</td>\n",
       "      <td>-6.953060e-01</td>\n",
       "      <td>-4.727737e-01</td>\n",
       "      <td>-4.007289e-01</td>\n",
       "      <td>-5.955785e-01</td>\n",
       "      <td>-6.889685e-01</td>\n",
       "      <td>-7.862862e-01</td>\n",
       "      <td>-7.321202e-01</td>\n",
       "    </tr>\n",
       "    <tr>\n",
       "      <th>50%</th>\n",
       "      <td>-2.509521e-01</td>\n",
       "      <td>-1.540881e-01</td>\n",
       "      <td>-1.675912e-02</td>\n",
       "      <td>8.087936e-16</td>\n",
       "      <td>-3.345079e-16</td>\n",
       "      <td>9.419788e-04</td>\n",
       "      <td>-3.001282e-01</td>\n",
       "      <td>-3.608474e-01</td>\n",
       "      <td>-7.321202e-01</td>\n",
       "    </tr>\n",
       "    <tr>\n",
       "      <th>75%</th>\n",
       "      <td>6.399473e-01</td>\n",
       "      <td>6.103090e-01</td>\n",
       "      <td>6.282695e-01</td>\n",
       "      <td>3.240194e-01</td>\n",
       "      <td>-3.345079e-16</td>\n",
       "      <td>5.847705e-01</td>\n",
       "      <td>4.662269e-01</td>\n",
       "      <td>6.602056e-01</td>\n",
       "      <td>1.365896e+00</td>\n",
       "    </tr>\n",
       "    <tr>\n",
       "      <th>max</th>\n",
       "      <td>3.906578e+00</td>\n",
       "      <td>2.541850e+00</td>\n",
       "      <td>4.102655e+00</td>\n",
       "      <td>7.950467e+00</td>\n",
       "      <td>8.126238e+00</td>\n",
       "      <td>4.455807e+00</td>\n",
       "      <td>5.883565e+00</td>\n",
       "      <td>4.063716e+00</td>\n",
       "      <td>1.365896e+00</td>\n",
       "    </tr>\n",
       "  </tbody>\n",
       "</table>\n",
       "</div>"
      ],
      "text/plain": [
       "                  0             1             2             3             4  \\\n",
       "count  7.680000e+02  7.680000e+02  7.680000e+02  7.680000e+02  7.680000e+02   \n",
       "mean   2.544261e-17 -3.301757e-16  6.966722e-16  6.866252e-16 -2.352033e-16   \n",
       "std    1.000652e+00  1.000652e+00  1.000652e+00  1.000652e+00  1.000652e+00   \n",
       "min   -1.141852e+00 -2.554131e+00 -4.004245e+00 -2.521670e+00 -1.665945e+00   \n",
       "25%   -8.448851e-01 -7.212214e-01 -6.953060e-01 -4.727737e-01 -4.007289e-01   \n",
       "50%   -2.509521e-01 -1.540881e-01 -1.675912e-02  8.087936e-16 -3.345079e-16   \n",
       "75%    6.399473e-01  6.103090e-01  6.282695e-01  3.240194e-01 -3.345079e-16   \n",
       "max    3.906578e+00  2.541850e+00  4.102655e+00  7.950467e+00  8.126238e+00   \n",
       "\n",
       "                  5             6             7             8  \n",
       "count  7.680000e+02  7.680000e+02  7.680000e+02  7.680000e+02  \n",
       "mean   2.295979e-16  2.398978e-16  1.857600e-16  2.408374e-16  \n",
       "std    1.000652e+00  1.000652e+00  1.000652e+00  1.000652e+00  \n",
       "min   -4.060474e+00 -1.189553e+00 -1.041549e+00 -7.321202e-01  \n",
       "25%   -5.955785e-01 -6.889685e-01 -7.862862e-01 -7.321202e-01  \n",
       "50%    9.419788e-04 -3.001282e-01 -3.608474e-01 -7.321202e-01  \n",
       "75%    5.847705e-01  4.662269e-01  6.602056e-01  1.365896e+00  \n",
       "max    4.455807e+00  5.883565e+00  4.063716e+00  1.365896e+00  "
      ]
     },
     "execution_count": 27,
     "metadata": {},
     "output_type": "execute_result"
    }
   ],
   "source": [
    "df_std.describe()"
   ]
  },
  {
   "cell_type": "code",
   "execution_count": 28,
   "metadata": {},
   "outputs": [],
   "source": [
    "# replacing the last column with the outcome so that it will be binary variable\n",
    "df_std[8]= df['Outcome']"
   ]
  },
  {
   "cell_type": "markdown",
   "metadata": {},
   "source": [
    "# Train test Split"
   ]
  },
  {
   "cell_type": "code",
   "execution_count": 29,
   "metadata": {},
   "outputs": [],
   "source": [
    "# taking independant variables into x and dependant variable to y\n",
    "x= df_std.drop(columns=8)\n",
    "y= df_std[8]"
   ]
  },
  {
   "cell_type": "code",
   "execution_count": 30,
   "metadata": {},
   "outputs": [],
   "source": [
    "# splitting data for training and testing\n",
    "from sklearn import model_selection\n",
    "x_train ,x_test , y_train, y_test = model_selection.train_test_split(x,y, test_size = 0.2)"
   ]
  },
  {
   "cell_type": "markdown",
   "metadata": {},
   "source": [
    "# Building Multi Layer Perceptron"
   ]
  },
  {
   "cell_type": "code",
   "execution_count": 31,
   "metadata": {},
   "outputs": [],
   "source": [
    "from keras.models import Sequential\n",
    "model= Sequential()"
   ]
  },
  {
   "cell_type": "code",
   "execution_count": 32,
   "metadata": {},
   "outputs": [],
   "source": [
    "# input layer to first hidden layer\n",
    "from keras.layers import Dense, Activation\n",
    "model.add(Dense(32, activation='relu', input_dim=8))"
   ]
  },
  {
   "cell_type": "code",
   "execution_count": 33,
   "metadata": {},
   "outputs": [],
   "source": [
    "# first hidden layer to second hidden layer\n",
    "model.add(Dense(16, activation='relu'))"
   ]
  },
  {
   "cell_type": "code",
   "execution_count": 34,
   "metadata": {},
   "outputs": [],
   "source": [
    "# second layer to output layer\n",
    "model.add(Dense(1, activation='sigmoid'))"
   ]
  },
  {
   "cell_type": "code",
   "execution_count": 35,
   "metadata": {},
   "outputs": [
    {
     "name": "stdout",
     "output_type": "stream",
     "text": [
      "Model: \"sequential\"\n",
      "_________________________________________________________________\n",
      "Layer (type)                 Output Shape              Param #   \n",
      "=================================================================\n",
      "dense (Dense)                (None, 32)                288       \n",
      "_________________________________________________________________\n",
      "dense_1 (Dense)              (None, 16)                528       \n",
      "_________________________________________________________________\n",
      "dense_2 (Dense)              (None, 1)                 17        \n",
      "=================================================================\n",
      "Total params: 833\n",
      "Trainable params: 833\n",
      "Non-trainable params: 0\n",
      "_________________________________________________________________\n"
     ]
    }
   ],
   "source": [
    "model.summary()"
   ]
  },
  {
   "cell_type": "code",
   "execution_count": 36,
   "metadata": {},
   "outputs": [],
   "source": [
    "from keras.optimizers import Adam\n",
    "from keras.losses import binary_crossentropy\n",
    "model.compile(optimizer='adam', loss='binary_crossentropy', metrics='accuracy')"
   ]
  },
  {
   "cell_type": "code",
   "execution_count": 37,
   "metadata": {},
   "outputs": [
    {
     "name": "stdout",
     "output_type": "stream",
     "text": [
      "Epoch 1/250\n",
      "20/20 [==============================] - 0s 1ms/step - loss: 0.6865 - accuracy: 0.5831\n",
      "Epoch 2/250\n",
      "20/20 [==============================] - 0s 2ms/step - loss: 0.6250 - accuracy: 0.6775\n",
      "Epoch 3/250\n",
      "20/20 [==============================] - 0s 1ms/step - loss: 0.5805 - accuracy: 0.7345\n",
      "Epoch 4/250\n",
      "20/20 [==============================] - 0s 1ms/step - loss: 0.5433 - accuracy: 0.7541\n",
      "Epoch 5/250\n",
      "20/20 [==============================] - 0s 1ms/step - loss: 0.5168 - accuracy: 0.7590\n",
      "Epoch 6/250\n",
      "20/20 [==============================] - 0s 1ms/step - loss: 0.4956 - accuracy: 0.7638\n",
      "Epoch 7/250\n",
      "20/20 [==============================] - 0s 1ms/step - loss: 0.4827 - accuracy: 0.7720\n",
      "Epoch 8/250\n",
      "20/20 [==============================] - 0s 2ms/step - loss: 0.4744 - accuracy: 0.7736\n",
      "Epoch 9/250\n",
      "20/20 [==============================] - 0s 1ms/step - loss: 0.4686 - accuracy: 0.7752\n",
      "Epoch 10/250\n",
      "20/20 [==============================] - 0s 1ms/step - loss: 0.4663 - accuracy: 0.7736\n",
      "Epoch 11/250\n",
      "20/20 [==============================] - 0s 1ms/step - loss: 0.4618 - accuracy: 0.7704\n",
      "Epoch 12/250\n",
      "20/20 [==============================] - 0s 1ms/step - loss: 0.4586 - accuracy: 0.7769\n",
      "Epoch 13/250\n",
      "20/20 [==============================] - 0s 1ms/step - loss: 0.4562 - accuracy: 0.7736\n",
      "Epoch 14/250\n",
      "20/20 [==============================] - 0s 1ms/step - loss: 0.4541 - accuracy: 0.7818\n",
      "Epoch 15/250\n",
      "20/20 [==============================] - 0s 1ms/step - loss: 0.4515 - accuracy: 0.7866\n",
      "Epoch 16/250\n",
      "20/20 [==============================] - 0s 1ms/step - loss: 0.4509 - accuracy: 0.7899\n",
      "Epoch 17/250\n",
      "20/20 [==============================] - 0s 1ms/step - loss: 0.4491 - accuracy: 0.7883\n",
      "Epoch 18/250\n",
      "20/20 [==============================] - 0s 1ms/step - loss: 0.4463 - accuracy: 0.7866\n",
      "Epoch 19/250\n",
      "20/20 [==============================] - 0s 1ms/step - loss: 0.4452 - accuracy: 0.7915\n",
      "Epoch 20/250\n",
      "20/20 [==============================] - 0s 1ms/step - loss: 0.4429 - accuracy: 0.7915\n",
      "Epoch 21/250\n",
      "20/20 [==============================] - 0s 1ms/step - loss: 0.4414 - accuracy: 0.7866\n",
      "Epoch 22/250\n",
      "20/20 [==============================] - 0s 1ms/step - loss: 0.4400 - accuracy: 0.7899\n",
      "Epoch 23/250\n",
      "20/20 [==============================] - 0s 1ms/step - loss: 0.4377 - accuracy: 0.7964\n",
      "Epoch 24/250\n",
      "20/20 [==============================] - 0s 1ms/step - loss: 0.4361 - accuracy: 0.7964\n",
      "Epoch 25/250\n",
      "20/20 [==============================] - 0s 1ms/step - loss: 0.4359 - accuracy: 0.7932\n",
      "Epoch 26/250\n",
      "20/20 [==============================] - 0s 1ms/step - loss: 0.4339 - accuracy: 0.7964\n",
      "Epoch 27/250\n",
      "20/20 [==============================] - 0s 1ms/step - loss: 0.4317 - accuracy: 0.7932\n",
      "Epoch 28/250\n",
      "20/20 [==============================] - 0s 1ms/step - loss: 0.4310 - accuracy: 0.7980\n",
      "Epoch 29/250\n",
      "20/20 [==============================] - 0s 1ms/step - loss: 0.4290 - accuracy: 0.7948\n",
      "Epoch 30/250\n",
      "20/20 [==============================] - 0s 1ms/step - loss: 0.4275 - accuracy: 0.7997\n",
      "Epoch 31/250\n",
      "20/20 [==============================] - 0s 1ms/step - loss: 0.4270 - accuracy: 0.8013\n",
      "Epoch 32/250\n",
      "20/20 [==============================] - 0s 1ms/step - loss: 0.4246 - accuracy: 0.8062\n",
      "Epoch 33/250\n",
      "20/20 [==============================] - 0s 1ms/step - loss: 0.4242 - accuracy: 0.8094\n",
      "Epoch 34/250\n",
      "20/20 [==============================] - 0s 1ms/step - loss: 0.4219 - accuracy: 0.8062\n",
      "Epoch 35/250\n",
      "20/20 [==============================] - 0s 1ms/step - loss: 0.4226 - accuracy: 0.8062\n",
      "Epoch 36/250\n",
      "20/20 [==============================] - 0s 1ms/step - loss: 0.4194 - accuracy: 0.8062\n",
      "Epoch 37/250\n",
      "20/20 [==============================] - 0s 1ms/step - loss: 0.4189 - accuracy: 0.8046\n",
      "Epoch 38/250\n",
      "20/20 [==============================] - 0s 1ms/step - loss: 0.4175 - accuracy: 0.8094\n",
      "Epoch 39/250\n",
      "20/20 [==============================] - 0s 997us/step - loss: 0.4159 - accuracy: 0.8094\n",
      "Epoch 40/250\n",
      "20/20 [==============================] - 0s 1ms/step - loss: 0.4141 - accuracy: 0.8046\n",
      "Epoch 41/250\n",
      "20/20 [==============================] - 0s 1ms/step - loss: 0.4132 - accuracy: 0.8078\n",
      "Epoch 42/250\n",
      "20/20 [==============================] - 0s 1ms/step - loss: 0.4119 - accuracy: 0.8127\n",
      "Epoch 43/250\n",
      "20/20 [==============================] - 0s 1ms/step - loss: 0.4106 - accuracy: 0.8160\n",
      "Epoch 44/250\n",
      "20/20 [==============================] - 0s 1ms/step - loss: 0.4094 - accuracy: 0.8127\n",
      "Epoch 45/250\n",
      "20/20 [==============================] - 0s 1ms/step - loss: 0.4088 - accuracy: 0.8160\n",
      "Epoch 46/250\n",
      "20/20 [==============================] - 0s 1ms/step - loss: 0.4070 - accuracy: 0.8094\n",
      "Epoch 47/250\n",
      "20/20 [==============================] - 0s 1ms/step - loss: 0.4059 - accuracy: 0.8127\n",
      "Epoch 48/250\n",
      "20/20 [==============================] - 0s 1ms/step - loss: 0.4049 - accuracy: 0.8127\n",
      "Epoch 49/250\n",
      "20/20 [==============================] - 0s 1ms/step - loss: 0.4053 - accuracy: 0.8078\n",
      "Epoch 50/250\n",
      "20/20 [==============================] - 0s 1ms/step - loss: 0.4020 - accuracy: 0.8160\n",
      "Epoch 51/250\n",
      "20/20 [==============================] - 0s 1ms/step - loss: 0.4024 - accuracy: 0.8143\n",
      "Epoch 52/250\n",
      "20/20 [==============================] - 0s 1ms/step - loss: 0.3988 - accuracy: 0.8160\n",
      "Epoch 53/250\n",
      "20/20 [==============================] - 0s 1ms/step - loss: 0.3984 - accuracy: 0.8160\n",
      "Epoch 54/250\n",
      "20/20 [==============================] - 0s 1ms/step - loss: 0.3981 - accuracy: 0.8160\n",
      "Epoch 55/250\n",
      "20/20 [==============================] - ETA: 0s - loss: 0.2893 - accuracy: 0.90 - 0s 1ms/step - loss: 0.3958 - accuracy: 0.8111\n",
      "Epoch 56/250\n",
      "20/20 [==============================] - 0s 1ms/step - loss: 0.3947 - accuracy: 0.8160\n",
      "Epoch 57/250\n",
      "20/20 [==============================] - 0s 1ms/step - loss: 0.3937 - accuracy: 0.8160\n",
      "Epoch 58/250\n",
      "20/20 [==============================] - 0s 1ms/step - loss: 0.3930 - accuracy: 0.8160\n",
      "Epoch 59/250\n",
      "20/20 [==============================] - 0s 1ms/step - loss: 0.3916 - accuracy: 0.8176\n",
      "Epoch 60/250\n",
      "20/20 [==============================] - 0s 1ms/step - loss: 0.3935 - accuracy: 0.8143\n",
      "Epoch 61/250\n",
      "20/20 [==============================] - 0s 1ms/step - loss: 0.3902 - accuracy: 0.8241\n",
      "Epoch 62/250\n",
      "20/20 [==============================] - 0s 1ms/step - loss: 0.3886 - accuracy: 0.8192\n",
      "Epoch 63/250\n",
      "20/20 [==============================] - 0s 1ms/step - loss: 0.3864 - accuracy: 0.8257\n",
      "Epoch 64/250\n",
      "20/20 [==============================] - 0s 1ms/step - loss: 0.3862 - accuracy: 0.8192\n",
      "Epoch 65/250\n",
      "20/20 [==============================] - 0s 997us/step - loss: 0.3833 - accuracy: 0.8241\n",
      "Epoch 66/250\n",
      "20/20 [==============================] - 0s 1ms/step - loss: 0.3838 - accuracy: 0.8241\n",
      "Epoch 67/250\n",
      "20/20 [==============================] - 0s 1ms/step - loss: 0.3822 - accuracy: 0.8208\n",
      "Epoch 68/250\n",
      "20/20 [==============================] - 0s 1ms/step - loss: 0.3812 - accuracy: 0.8241\n",
      "Epoch 69/250\n",
      "20/20 [==============================] - 0s 1ms/step - loss: 0.3804 - accuracy: 0.8290\n",
      "Epoch 70/250\n",
      "20/20 [==============================] - 0s 1ms/step - loss: 0.3794 - accuracy: 0.8306\n",
      "Epoch 71/250\n",
      "20/20 [==============================] - 0s 997us/step - loss: 0.3782 - accuracy: 0.8355\n",
      "Epoch 72/250\n",
      "20/20 [==============================] - 0s 997us/step - loss: 0.3760 - accuracy: 0.8274\n",
      "Epoch 73/250\n",
      "20/20 [==============================] - 0s 1ms/step - loss: 0.3776 - accuracy: 0.8306\n",
      "Epoch 74/250\n",
      "20/20 [==============================] - 0s 1ms/step - loss: 0.3744 - accuracy: 0.8322\n",
      "Epoch 75/250\n",
      "20/20 [==============================] - 0s 1ms/step - loss: 0.3734 - accuracy: 0.8339\n",
      "Epoch 76/250\n",
      "20/20 [==============================] - 0s 1ms/step - loss: 0.3720 - accuracy: 0.8339\n",
      "Epoch 77/250\n",
      "20/20 [==============================] - 0s 1ms/step - loss: 0.3717 - accuracy: 0.8355\n",
      "Epoch 78/250\n",
      "20/20 [==============================] - 0s 1ms/step - loss: 0.3703 - accuracy: 0.8339\n",
      "Epoch 79/250\n",
      "20/20 [==============================] - 0s 1ms/step - loss: 0.3686 - accuracy: 0.8339\n",
      "Epoch 80/250\n",
      "20/20 [==============================] - 0s 1ms/step - loss: 0.3686 - accuracy: 0.8355\n",
      "Epoch 81/250\n",
      "20/20 [==============================] - 0s 1ms/step - loss: 0.3663 - accuracy: 0.8306\n",
      "Epoch 82/250\n",
      "20/20 [==============================] - 0s 1ms/step - loss: 0.3651 - accuracy: 0.8388\n",
      "Epoch 83/250\n",
      "20/20 [==============================] - 0s 1ms/step - loss: 0.3676 - accuracy: 0.8420\n",
      "Epoch 84/250\n",
      "20/20 [==============================] - 0s 1ms/step - loss: 0.3653 - accuracy: 0.8306\n",
      "Epoch 85/250\n",
      "20/20 [==============================] - 0s 1ms/step - loss: 0.3627 - accuracy: 0.8388\n",
      "Epoch 86/250\n",
      "20/20 [==============================] - 0s 1ms/step - loss: 0.3620 - accuracy: 0.8420\n",
      "Epoch 87/250\n",
      "20/20 [==============================] - 0s 1ms/step - loss: 0.3606 - accuracy: 0.8339\n",
      "Epoch 88/250\n",
      "20/20 [==============================] - 0s 997us/step - loss: 0.3610 - accuracy: 0.8420\n",
      "Epoch 89/250\n",
      "20/20 [==============================] - 0s 1ms/step - loss: 0.3588 - accuracy: 0.8404\n",
      "Epoch 90/250\n",
      "20/20 [==============================] - 0s 1ms/step - loss: 0.3578 - accuracy: 0.8404\n",
      "Epoch 91/250\n",
      "20/20 [==============================] - 0s 1ms/step - loss: 0.3571 - accuracy: 0.8420\n",
      "Epoch 92/250\n",
      "20/20 [==============================] - 0s 1ms/step - loss: 0.3559 - accuracy: 0.8436\n",
      "Epoch 93/250\n",
      "20/20 [==============================] - 0s 1ms/step - loss: 0.3549 - accuracy: 0.8355\n",
      "Epoch 94/250\n",
      "20/20 [==============================] - 0s 1ms/step - loss: 0.3526 - accuracy: 0.8404\n",
      "Epoch 95/250\n",
      "20/20 [==============================] - 0s 1ms/step - loss: 0.3528 - accuracy: 0.8420\n",
      "Epoch 96/250\n",
      "20/20 [==============================] - 0s 1ms/step - loss: 0.3510 - accuracy: 0.8453\n",
      "Epoch 97/250\n",
      "20/20 [==============================] - 0s 997us/step - loss: 0.3521 - accuracy: 0.8388\n",
      "Epoch 98/250\n",
      "20/20 [==============================] - 0s 1ms/step - loss: 0.3499 - accuracy: 0.8420\n",
      "Epoch 99/250\n",
      "20/20 [==============================] - 0s 1ms/step - loss: 0.3491 - accuracy: 0.8404\n",
      "Epoch 100/250\n",
      "20/20 [==============================] - 0s 1ms/step - loss: 0.3494 - accuracy: 0.8534\n",
      "Epoch 101/250\n",
      "20/20 [==============================] - 0s 1ms/step - loss: 0.3491 - accuracy: 0.8339\n",
      "Epoch 102/250\n",
      "20/20 [==============================] - 0s 1ms/step - loss: 0.3470 - accuracy: 0.8420\n",
      "Epoch 103/250\n",
      "20/20 [==============================] - 0s 1ms/step - loss: 0.3461 - accuracy: 0.8339\n",
      "Epoch 104/250\n",
      "20/20 [==============================] - 0s 1ms/step - loss: 0.3447 - accuracy: 0.8518\n",
      "Epoch 105/250\n",
      "20/20 [==============================] - 0s 997us/step - loss: 0.3441 - accuracy: 0.8436\n",
      "Epoch 106/250\n",
      "20/20 [==============================] - 0s 1ms/step - loss: 0.3420 - accuracy: 0.8453\n",
      "Epoch 107/250\n",
      "20/20 [==============================] - 0s 1ms/step - loss: 0.3408 - accuracy: 0.8420\n",
      "Epoch 108/250\n",
      "20/20 [==============================] - 0s 1ms/step - loss: 0.3399 - accuracy: 0.8469\n",
      "Epoch 109/250\n",
      "20/20 [==============================] - 0s 1ms/step - loss: 0.3393 - accuracy: 0.8388\n",
      "Epoch 110/250\n",
      "20/20 [==============================] - 0s 1ms/step - loss: 0.3376 - accuracy: 0.8485\n",
      "Epoch 111/250\n",
      "20/20 [==============================] - 0s 1ms/step - loss: 0.3365 - accuracy: 0.8485\n",
      "Epoch 112/250\n",
      "20/20 [==============================] - 0s 1ms/step - loss: 0.3375 - accuracy: 0.8404\n",
      "Epoch 113/250\n",
      "20/20 [==============================] - 0s 997us/step - loss: 0.3346 - accuracy: 0.8534\n",
      "Epoch 114/250\n",
      "20/20 [==============================] - 0s 2ms/step - loss: 0.3348 - accuracy: 0.8453\n",
      "Epoch 115/250\n",
      "20/20 [==============================] - 0s 1ms/step - loss: 0.3356 - accuracy: 0.8550\n",
      "Epoch 116/250\n",
      "20/20 [==============================] - 0s 1ms/step - loss: 0.3333 - accuracy: 0.8502\n",
      "Epoch 117/250\n",
      "20/20 [==============================] - 0s 997us/step - loss: 0.3303 - accuracy: 0.8567\n",
      "Epoch 118/250\n",
      "20/20 [==============================] - 0s 1ms/step - loss: 0.3301 - accuracy: 0.8518\n",
      "Epoch 119/250\n",
      "20/20 [==============================] - 0s 1ms/step - loss: 0.3288 - accuracy: 0.8502\n",
      "Epoch 120/250\n",
      "20/20 [==============================] - 0s 1ms/step - loss: 0.3299 - accuracy: 0.8583\n",
      "Epoch 121/250\n",
      "20/20 [==============================] - 0s 1ms/step - loss: 0.3281 - accuracy: 0.8485\n",
      "Epoch 122/250\n",
      "20/20 [==============================] - ETA: 0s - loss: 0.2165 - accuracy: 0.87 - 0s 1ms/step - loss: 0.3276 - accuracy: 0.8567\n",
      "Epoch 123/250\n",
      "20/20 [==============================] - 0s 1ms/step - loss: 0.3269 - accuracy: 0.8485\n",
      "Epoch 124/250\n",
      "20/20 [==============================] - 0s 1ms/step - loss: 0.3242 - accuracy: 0.8534\n",
      "Epoch 125/250\n",
      "20/20 [==============================] - 0s 997us/step - loss: 0.3232 - accuracy: 0.8583\n",
      "Epoch 126/250\n",
      "20/20 [==============================] - 0s 1ms/step - loss: 0.3218 - accuracy: 0.8567\n",
      "Epoch 127/250\n",
      "20/20 [==============================] - 0s 1ms/step - loss: 0.3204 - accuracy: 0.8534\n",
      "Epoch 128/250\n",
      "20/20 [==============================] - 0s 1ms/step - loss: 0.3214 - accuracy: 0.8567\n",
      "Epoch 129/250\n",
      "20/20 [==============================] - 0s 1ms/step - loss: 0.3194 - accuracy: 0.8583\n",
      "Epoch 130/250\n",
      "20/20 [==============================] - 0s 1ms/step - loss: 0.3191 - accuracy: 0.8518\n",
      "Epoch 131/250\n",
      "20/20 [==============================] - 0s 1ms/step - loss: 0.3167 - accuracy: 0.8550\n",
      "Epoch 132/250\n",
      "20/20 [==============================] - 0s 1ms/step - loss: 0.3177 - accuracy: 0.8550\n",
      "Epoch 133/250\n",
      "20/20 [==============================] - 0s 1ms/step - loss: 0.3166 - accuracy: 0.8550\n",
      "Epoch 134/250\n",
      "20/20 [==============================] - 0s 1ms/step - loss: 0.3140 - accuracy: 0.8632\n",
      "Epoch 135/250\n",
      "20/20 [==============================] - 0s 1ms/step - loss: 0.3147 - accuracy: 0.8550\n",
      "Epoch 136/250\n",
      "20/20 [==============================] - 0s 997us/step - loss: 0.3122 - accuracy: 0.8583\n",
      "Epoch 137/250\n",
      "20/20 [==============================] - 0s 1ms/step - loss: 0.3103 - accuracy: 0.8616\n",
      "Epoch 138/250\n",
      "20/20 [==============================] - 0s 1ms/step - loss: 0.3113 - accuracy: 0.8567\n",
      "Epoch 139/250\n",
      "20/20 [==============================] - 0s 997us/step - loss: 0.3109 - accuracy: 0.8616\n",
      "Epoch 140/250\n",
      "20/20 [==============================] - 0s 1ms/step - loss: 0.3074 - accuracy: 0.8632\n",
      "Epoch 141/250\n",
      "20/20 [==============================] - 0s 997us/step - loss: 0.3061 - accuracy: 0.8616\n",
      "Epoch 142/250\n",
      "20/20 [==============================] - 0s 1ms/step - loss: 0.3047 - accuracy: 0.8583\n",
      "Epoch 143/250\n",
      "20/20 [==============================] - 0s 1ms/step - loss: 0.3050 - accuracy: 0.8616\n",
      "Epoch 144/250\n",
      "20/20 [==============================] - 0s 1ms/step - loss: 0.3035 - accuracy: 0.8648\n",
      "Epoch 145/250\n",
      "20/20 [==============================] - 0s 997us/step - loss: 0.3025 - accuracy: 0.8632\n",
      "Epoch 146/250\n",
      "20/20 [==============================] - 0s 1ms/step - loss: 0.3015 - accuracy: 0.8518\n",
      "Epoch 147/250\n",
      "20/20 [==============================] - 0s 1ms/step - loss: 0.3010 - accuracy: 0.8648\n",
      "Epoch 148/250\n",
      "20/20 [==============================] - 0s 1ms/step - loss: 0.2989 - accuracy: 0.8681\n",
      "Epoch 149/250\n",
      "20/20 [==============================] - 0s 1ms/step - loss: 0.2987 - accuracy: 0.8632\n",
      "Epoch 150/250\n",
      "20/20 [==============================] - 0s 1ms/step - loss: 0.2986 - accuracy: 0.8664\n",
      "Epoch 151/250\n",
      "20/20 [==============================] - 0s 1ms/step - loss: 0.2963 - accuracy: 0.8648\n",
      "Epoch 152/250\n",
      "20/20 [==============================] - 0s 1ms/step - loss: 0.2967 - accuracy: 0.8583\n",
      "Epoch 153/250\n",
      "20/20 [==============================] - 0s 1ms/step - loss: 0.2924 - accuracy: 0.8664\n",
      "Epoch 154/250\n",
      "20/20 [==============================] - 0s 1ms/step - loss: 0.2944 - accuracy: 0.8616\n",
      "Epoch 155/250\n",
      "20/20 [==============================] - 0s 997us/step - loss: 0.2917 - accuracy: 0.8664\n",
      "Epoch 156/250\n",
      "20/20 [==============================] - 0s 1ms/step - loss: 0.2900 - accuracy: 0.8681\n",
      "Epoch 157/250\n",
      "20/20 [==============================] - 0s 997us/step - loss: 0.2899 - accuracy: 0.8648\n",
      "Epoch 158/250\n",
      "20/20 [==============================] - 0s 1ms/step - loss: 0.2906 - accuracy: 0.8681\n",
      "Epoch 159/250\n",
      "20/20 [==============================] - 0s 1ms/step - loss: 0.2885 - accuracy: 0.8697\n",
      "Epoch 160/250\n",
      "20/20 [==============================] - 0s 1ms/step - loss: 0.2874 - accuracy: 0.8681\n",
      "Epoch 161/250\n",
      "20/20 [==============================] - 0s 1ms/step - loss: 0.2860 - accuracy: 0.8713\n",
      "Epoch 162/250\n",
      "20/20 [==============================] - 0s 1ms/step - loss: 0.2853 - accuracy: 0.8762\n",
      "Epoch 163/250\n",
      "20/20 [==============================] - 0s 997us/step - loss: 0.2840 - accuracy: 0.8746\n",
      "Epoch 164/250\n",
      "20/20 [==============================] - 0s 1ms/step - loss: 0.2829 - accuracy: 0.8811\n",
      "Epoch 165/250\n",
      "20/20 [==============================] - 0s 1ms/step - loss: 0.2824 - accuracy: 0.8746\n",
      "Epoch 166/250\n",
      "20/20 [==============================] - 0s 1ms/step - loss: 0.2810 - accuracy: 0.8713\n",
      "Epoch 167/250\n",
      "20/20 [==============================] - 0s 1ms/step - loss: 0.2827 - accuracy: 0.8746\n",
      "Epoch 168/250\n",
      "20/20 [==============================] - 0s 1ms/step - loss: 0.2783 - accuracy: 0.8681\n",
      "Epoch 169/250\n",
      "20/20 [==============================] - 0s 1ms/step - loss: 0.2774 - accuracy: 0.8795\n",
      "Epoch 170/250\n",
      "20/20 [==============================] - 0s 1ms/step - loss: 0.2800 - accuracy: 0.8779\n",
      "Epoch 171/250\n",
      "20/20 [==============================] - 0s 1ms/step - loss: 0.2795 - accuracy: 0.8762\n",
      "Epoch 172/250\n",
      "20/20 [==============================] - 0s 1ms/step - loss: 0.2753 - accuracy: 0.8746\n",
      "Epoch 173/250\n",
      "20/20 [==============================] - 0s 998us/step - loss: 0.2734 - accuracy: 0.8779\n",
      "Epoch 174/250\n",
      "20/20 [==============================] - 0s 1ms/step - loss: 0.2721 - accuracy: 0.8779\n",
      "Epoch 175/250\n",
      "20/20 [==============================] - 0s 997us/step - loss: 0.2724 - accuracy: 0.8795\n",
      "Epoch 176/250\n",
      "20/20 [==============================] - 0s 1ms/step - loss: 0.2732 - accuracy: 0.8795\n",
      "Epoch 177/250\n",
      "20/20 [==============================] - 0s 947us/step - loss: 0.2708 - accuracy: 0.8779\n",
      "Epoch 178/250\n",
      "20/20 [==============================] - 0s 1ms/step - loss: 0.2711 - accuracy: 0.8779\n",
      "Epoch 179/250\n",
      "20/20 [==============================] - 0s 1ms/step - loss: 0.2717 - accuracy: 0.8779\n",
      "Epoch 180/250\n",
      "20/20 [==============================] - 0s 1ms/step - loss: 0.2680 - accuracy: 0.8893\n",
      "Epoch 181/250\n",
      "20/20 [==============================] - 0s 1ms/step - loss: 0.2657 - accuracy: 0.8876\n",
      "Epoch 182/250\n",
      "20/20 [==============================] - 0s 2ms/step - loss: 0.2661 - accuracy: 0.8893\n",
      "Epoch 183/250\n",
      "20/20 [==============================] - 0s 1ms/step - loss: 0.2654 - accuracy: 0.8909\n",
      "Epoch 184/250\n",
      "20/20 [==============================] - 0s 1ms/step - loss: 0.2653 - accuracy: 0.8909\n",
      "Epoch 185/250\n",
      "20/20 [==============================] - 0s 1ms/step - loss: 0.2620 - accuracy: 0.8876\n",
      "Epoch 186/250\n",
      "20/20 [==============================] - 0s 1ms/step - loss: 0.2634 - accuracy: 0.8860\n",
      "Epoch 187/250\n",
      "20/20 [==============================] - 0s 997us/step - loss: 0.2635 - accuracy: 0.8925\n",
      "Epoch 188/250\n",
      "20/20 [==============================] - 0s 1ms/step - loss: 0.2644 - accuracy: 0.8893\n",
      "Epoch 189/250\n",
      "20/20 [==============================] - 0s 1ms/step - loss: 0.2615 - accuracy: 0.8860\n",
      "Epoch 190/250\n",
      "20/20 [==============================] - 0s 1ms/step - loss: 0.2590 - accuracy: 0.8925\n",
      "Epoch 191/250\n",
      "20/20 [==============================] - 0s 1ms/step - loss: 0.2591 - accuracy: 0.8941\n",
      "Epoch 192/250\n",
      "20/20 [==============================] - 0s 1ms/step - loss: 0.2565 - accuracy: 0.8990\n",
      "Epoch 193/250\n",
      "20/20 [==============================] - 0s 1ms/step - loss: 0.2568 - accuracy: 0.8925\n",
      "Epoch 194/250\n",
      "20/20 [==============================] - 0s 997us/step - loss: 0.2552 - accuracy: 0.8958\n",
      "Epoch 195/250\n",
      "20/20 [==============================] - 0s 1ms/step - loss: 0.2542 - accuracy: 0.8941\n",
      "Epoch 196/250\n",
      "20/20 [==============================] - 0s 997us/step - loss: 0.2539 - accuracy: 0.8941\n",
      "Epoch 197/250\n",
      "20/20 [==============================] - 0s 1ms/step - loss: 0.2529 - accuracy: 0.8941\n",
      "Epoch 198/250\n",
      "20/20 [==============================] - 0s 997us/step - loss: 0.2536 - accuracy: 0.8941\n",
      "Epoch 199/250\n",
      "20/20 [==============================] - 0s 1ms/step - loss: 0.2500 - accuracy: 0.9007\n",
      "Epoch 200/250\n",
      "20/20 [==============================] - 0s 1ms/step - loss: 0.2507 - accuracy: 0.8990\n",
      "Epoch 201/250\n",
      "20/20 [==============================] - 0s 1ms/step - loss: 0.2486 - accuracy: 0.8941\n",
      "Epoch 202/250\n",
      "20/20 [==============================] - 0s 1ms/step - loss: 0.2484 - accuracy: 0.8941\n",
      "Epoch 203/250\n",
      "20/20 [==============================] - 0s 997us/step - loss: 0.2476 - accuracy: 0.9088\n",
      "Epoch 204/250\n",
      "20/20 [==============================] - 0s 1ms/step - loss: 0.2468 - accuracy: 0.8990\n",
      "Epoch 205/250\n",
      "20/20 [==============================] - 0s 1ms/step - loss: 0.2451 - accuracy: 0.8974\n",
      "Epoch 206/250\n",
      "20/20 [==============================] - 0s 898us/step - loss: 0.2455 - accuracy: 0.9007\n",
      "Epoch 207/250\n",
      "20/20 [==============================] - 0s 997us/step - loss: 0.2438 - accuracy: 0.9023\n",
      "Epoch 208/250\n",
      "20/20 [==============================] - 0s 1ms/step - loss: 0.2428 - accuracy: 0.9055\n",
      "Epoch 209/250\n",
      "20/20 [==============================] - 0s 1ms/step - loss: 0.2504 - accuracy: 0.8925\n",
      "Epoch 210/250\n",
      "20/20 [==============================] - 0s 997us/step - loss: 0.2433 - accuracy: 0.9023\n",
      "Epoch 211/250\n",
      "20/20 [==============================] - 0s 997us/step - loss: 0.2431 - accuracy: 0.9023\n",
      "Epoch 212/250\n",
      "20/20 [==============================] - 0s 1ms/step - loss: 0.2393 - accuracy: 0.9055\n",
      "Epoch 213/250\n",
      "20/20 [==============================] - 0s 1ms/step - loss: 0.2383 - accuracy: 0.9104\n",
      "Epoch 214/250\n",
      "20/20 [==============================] - 0s 947us/step - loss: 0.2383 - accuracy: 0.9088\n",
      "Epoch 215/250\n",
      "20/20 [==============================] - 0s 1ms/step - loss: 0.2363 - accuracy: 0.9088\n",
      "Epoch 216/250\n",
      "20/20 [==============================] - 0s 1ms/step - loss: 0.2357 - accuracy: 0.9072\n",
      "Epoch 217/250\n",
      "20/20 [==============================] - 0s 1ms/step - loss: 0.2369 - accuracy: 0.9007\n",
      "Epoch 218/250\n",
      "20/20 [==============================] - 0s 1ms/step - loss: 0.2346 - accuracy: 0.8990\n",
      "Epoch 219/250\n",
      "20/20 [==============================] - 0s 1ms/step - loss: 0.2341 - accuracy: 0.9039\n",
      "Epoch 220/250\n",
      "20/20 [==============================] - 0s 1ms/step - loss: 0.2343 - accuracy: 0.9007\n",
      "Epoch 221/250\n",
      "20/20 [==============================] - 0s 1ms/step - loss: 0.2328 - accuracy: 0.9088\n",
      "Epoch 222/250\n",
      "20/20 [==============================] - 0s 947us/step - loss: 0.2333 - accuracy: 0.9055\n",
      "Epoch 223/250\n",
      "20/20 [==============================] - 0s 947us/step - loss: 0.2297 - accuracy: 0.9104\n",
      "Epoch 224/250\n",
      "20/20 [==============================] - 0s 1ms/step - loss: 0.2290 - accuracy: 0.9104\n",
      "Epoch 225/250\n",
      "20/20 [==============================] - 0s 997us/step - loss: 0.2311 - accuracy: 0.9023\n",
      "Epoch 226/250\n",
      "20/20 [==============================] - 0s 1ms/step - loss: 0.2282 - accuracy: 0.9137\n",
      "Epoch 227/250\n",
      "20/20 [==============================] - 0s 1ms/step - loss: 0.2292 - accuracy: 0.9121\n",
      "Epoch 228/250\n",
      "20/20 [==============================] - 0s 947us/step - loss: 0.2261 - accuracy: 0.9104\n",
      "Epoch 229/250\n",
      "20/20 [==============================] - 0s 997us/step - loss: 0.2293 - accuracy: 0.9039\n",
      "Epoch 230/250\n",
      "20/20 [==============================] - 0s 1ms/step - loss: 0.2253 - accuracy: 0.9055\n",
      "Epoch 231/250\n",
      "20/20 [==============================] - 0s 1ms/step - loss: 0.2233 - accuracy: 0.9169\n",
      "Epoch 232/250\n",
      "20/20 [==============================] - 0s 947us/step - loss: 0.2264 - accuracy: 0.9104\n",
      "Epoch 233/250\n",
      "20/20 [==============================] - 0s 1ms/step - loss: 0.2228 - accuracy: 0.9088\n",
      "Epoch 234/250\n",
      "20/20 [==============================] - 0s 1ms/step - loss: 0.2234 - accuracy: 0.9153\n",
      "Epoch 235/250\n",
      "20/20 [==============================] - 0s 997us/step - loss: 0.2231 - accuracy: 0.9088\n",
      "Epoch 236/250\n",
      "20/20 [==============================] - 0s 1ms/step - loss: 0.2252 - accuracy: 0.9104\n",
      "Epoch 237/250\n",
      "20/20 [==============================] - 0s 1ms/step - loss: 0.2212 - accuracy: 0.9039\n",
      "Epoch 238/250\n",
      "20/20 [==============================] - 0s 1ms/step - loss: 0.2201 - accuracy: 0.9169\n",
      "Epoch 239/250\n",
      "20/20 [==============================] - 0s 948us/step - loss: 0.2206 - accuracy: 0.9169\n",
      "Epoch 240/250\n",
      "20/20 [==============================] - 0s 997us/step - loss: 0.2179 - accuracy: 0.9104\n",
      "Epoch 241/250\n",
      "20/20 [==============================] - 0s 1ms/step - loss: 0.2162 - accuracy: 0.9072\n",
      "Epoch 242/250\n",
      "20/20 [==============================] - 0s 1ms/step - loss: 0.2168 - accuracy: 0.9169\n",
      "Epoch 243/250\n",
      "20/20 [==============================] - 0s 947us/step - loss: 0.2169 - accuracy: 0.9137\n",
      "Epoch 244/250\n",
      "20/20 [==============================] - 0s 947us/step - loss: 0.2161 - accuracy: 0.9137\n",
      "Epoch 245/250\n",
      "20/20 [==============================] - 0s 1ms/step - loss: 0.2123 - accuracy: 0.9186\n",
      "Epoch 246/250\n",
      "20/20 [==============================] - 0s 1ms/step - loss: 0.2118 - accuracy: 0.9186\n",
      "Epoch 247/250\n",
      "20/20 [==============================] - 0s 997us/step - loss: 0.2121 - accuracy: 0.9137\n",
      "Epoch 248/250\n",
      "20/20 [==============================] - 0s 997us/step - loss: 0.2148 - accuracy: 0.9137\n",
      "Epoch 249/250\n",
      "20/20 [==============================] - 0s 1ms/step - loss: 0.2315 - accuracy: 0.9072\n",
      "Epoch 250/250\n",
      "20/20 [==============================] - 0s 1ms/step - loss: 0.2143 - accuracy: 0.9202\n"
     ]
    },
    {
     "data": {
      "text/plain": [
       "<tensorflow.python.keras.callbacks.History at 0x28e418144c8>"
      ]
     },
     "execution_count": 37,
     "metadata": {},
     "output_type": "execute_result"
    }
   ],
   "source": [
    "model.fit(x_train, y_train, epochs=250 )"
   ]
  },
  {
   "cell_type": "code",
   "execution_count": 38,
   "metadata": {},
   "outputs": [
    {
     "name": "stdout",
     "output_type": "stream",
     "text": [
      "20/20 [==============================] - 0s 798us/step - loss: 0.2053 - accuracy: 0.9186\n"
     ]
    },
    {
     "data": {
      "text/plain": [
       "[0.2053017020225525, 0.9185667634010315]"
      ]
     },
     "execution_count": 38,
     "metadata": {},
     "output_type": "execute_result"
    }
   ],
   "source": [
    "model.evaluate(x_train, y_train)"
   ]
  },
  {
   "cell_type": "code",
   "execution_count": 39,
   "metadata": {},
   "outputs": [
    {
     "name": "stdout",
     "output_type": "stream",
     "text": [
      "5/5 [==============================] - 0s 998us/step - loss: 0.5504 - accuracy: 0.7597\n"
     ]
    },
    {
     "data": {
      "text/plain": [
       "[0.5504043102264404, 0.7597402334213257]"
      ]
     },
     "execution_count": 39,
     "metadata": {},
     "output_type": "execute_result"
    }
   ],
   "source": [
    "model.evaluate(x_test, y_test)"
   ]
  },
  {
   "cell_type": "markdown",
   "metadata": {},
   "source": [
    "# Evaluation Metrics\n"
   ]
  },
  {
   "cell_type": "code",
   "execution_count": 40,
   "metadata": {},
   "outputs": [],
   "source": [
    "from sklearn.metrics import confusion_matrix"
   ]
  },
  {
   "cell_type": "code",
   "execution_count": 41,
   "metadata": {},
   "outputs": [
    {
     "name": "stdout",
     "output_type": "stream",
     "text": [
      "WARNING:tensorflow:From <ipython-input-41-22961dc7eaca>:1: Sequential.predict_classes (from tensorflow.python.keras.engine.sequential) is deprecated and will be removed after 2021-01-01.\n",
      "Instructions for updating:\n",
      "Please use instead:* `np.argmax(model.predict(x), axis=-1)`,   if your model does multi-class classification   (e.g. if it uses a `softmax` last-layer activation).* `(model.predict(x) > 0.5).astype(\"int32\")`,   if your model does binary classification   (e.g. if it uses a `sigmoid` last-layer activation).\n"
     ]
    }
   ],
   "source": [
    "y_pred= model.predict_classes(x_test)"
   ]
  },
  {
   "cell_type": "code",
   "execution_count": 42,
   "metadata": {},
   "outputs": [],
   "source": [
    "k=confusion_matrix(y_test, y_pred)"
   ]
  },
  {
   "cell_type": "code",
   "execution_count": 43,
   "metadata": {},
   "outputs": [
    {
     "data": {
      "text/plain": [
       "(Text(0.5, 15.0, 'Prediction'), Text(33.0, 0.5, 'Actual'))"
      ]
     },
     "execution_count": 43,
     "metadata": {},
     "output_type": "execute_result"
    },
    {
     "data": {
      "image/png": "[encoded data removed]",
      "text/plain": [
       "<Figure size 432x288 with 2 Axes>"
      ]
     },
     "metadata": {
      "needs_background": "light"
     },
     "output_type": "display_data"
    }
   ],
   "source": [
    "sns.heatmap(k, annot=True, xticklabels=['Not Diabetic', 'Diabetic'], \n",
    "            yticklabels=['Not Diabetic', 'Diabetic'], cmap='YlGnBu', )\n",
    "plt.xlabel('Prediction'), plt.ylabel('Actual')"
   ]
  },
  {
   "cell_type": "code",
   "execution_count": 44,
   "metadata": {},
   "outputs": [],
   "source": [
    "from sklearn.metrics import roc_curve"
   ]
  },
  {
   "cell_type": "code",
   "execution_count": 45,
   "metadata": {},
   "outputs": [],
   "source": [
    "y_pred=model.predict(x_test)"
   ]
  },
  {
   "cell_type": "code",
   "execution_count": 46,
   "metadata": {},
   "outputs": [],
   "source": [
    "fpr, tpr, _= roc_curve(y_test, y_pred)"
   ]
  },
  {
   "cell_type": "code",
   "execution_count": 47,
   "metadata": {},
   "outputs": [
    {
     "data": {
      "text/plain": [
       "(Text(0.5, 0, 'False positive rate'), Text(0, 0.5, 'True positive rate'))"
      ]
     },
     "execution_count": 47,
     "metadata": {},
     "output_type": "execute_result"
    },
    {
     "data": {
      "image/png": "[encoded data removed]",
      "text/plain": [
       "<Figure size 432x288 with 1 Axes>"
      ]
     },
     "metadata": {
      "needs_background": "light"
     },
     "output_type": "display_data"
    }
   ],
   "source": [
    "plt.title('ROC Curve')\n",
    "plt.plot(fpr,tpr)\n",
    "plt.xlabel('False positive rate'), plt.ylabel('True positive rate')"
   ]
  },
  {
   "cell_type": "code",
   "execution_count": null,
   "metadata": {},
   "outputs": [],
   "source": []
  }
 ],
 "metadata": {
  "kernelspec": {
   "display_name": "Python 3",
   "language": "python",
   "name": "python3"
  },
  "language_info": {
   "codemirror_mode": {
    "name": "ipython",
    "version": 3
   },
   "file_extension": ".py",
   "mimetype": "text/x-python",
   "name": "python",
   "nbconvert_exporter": "python",
   "pygments_lexer": "ipython3",
   "version": "3.7.6"
  }
 },
 "nbformat": 4,
 "nbformat_minor": 4
}
